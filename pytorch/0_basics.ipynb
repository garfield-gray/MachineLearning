{
  "nbformat": 4,
  "nbformat_minor": 0,
  "metadata": {
    "colab": {
      "provenance": [],
      "authorship_tag": "ABX9TyOiXsE5Q7MTtZv7Z5X9LmBx",
      "include_colab_link": true
    },
    "kernelspec": {
      "name": "python3",
      "display_name": "Python 3"
    },
    "language_info": {
      "name": "python"
    }
  },
  "cells": [
    {
      "cell_type": "markdown",
      "metadata": {
        "id": "view-in-github",
        "colab_type": "text"
      },
      "source": [
        "<a href=\"https://colab.research.google.com/github/garfield-gray/MachineLearning/blob/main/pytorch/0_basics.ipynb\" target=\"_parent\"><img src=\"https://colab.research.google.com/assets/colab-badge.svg\" alt=\"Open In Colab\"/></a>"
      ]
    },
    {
      "cell_type": "code",
      "execution_count": 2,
      "metadata": {
        "colab": {
          "base_uri": "https://localhost:8080/"
        },
        "id": "vB7s4pxwgAZt",
        "outputId": "270275d9-32bd-44f5-c8ac-8307a6df440e"
      },
      "outputs": [
        {
          "output_type": "stream",
          "name": "stdout",
          "text": [
            "/bin/bash: line 1: nvidia-smi: command not found\n"
          ]
        }
      ],
      "source": [
        "!nvidia-smi"
      ]
    },
    {
      "cell_type": "code",
      "source": [
        "import numpy as np\n",
        "import torch\n",
        "import matplotlib.pyplot as plt"
      ],
      "metadata": {
        "id": "9X31wUOkiETe"
      },
      "execution_count": 8,
      "outputs": []
    },
    {
      "cell_type": "code",
      "source": [
        "t = torch.tensor([[1,2,3],[4,5,6]])\n",
        "t.shape"
      ],
      "metadata": {
        "colab": {
          "base_uri": "https://localhost:8080/"
        },
        "id": "b2ehRrRqih4a",
        "outputId": "f39d7121-886f-4232-b125-d6bd3b37f578"
      },
      "execution_count": 4,
      "outputs": [
        {
          "output_type": "execute_result",
          "data": {
            "text/plain": [
              "torch.Size([2, 3])"
            ]
          },
          "metadata": {},
          "execution_count": 4
        }
      ]
    },
    {
      "cell_type": "code",
      "source": [
        "im = torch.rand((224,224,3))\n",
        "z = torch.zeros_like(im)\n",
        "o = torch.ones_like(im)"
      ],
      "metadata": {
        "id": "94nOss4Gi-V8"
      },
      "execution_count": 5,
      "outputs": []
    },
    {
      "cell_type": "code",
      "source": [
        "# prompt: show im as image\n",
        "\n",
        "plt.imshow(o)\n",
        "plt.show()\n"
      ],
      "metadata": {
        "colab": {
          "base_uri": "https://localhost:8080/",
          "height": 434
        },
        "id": "nT0RhqWdjZG4",
        "outputId": "d450116b-c0ca-43ae-bee7-c71dd7c80099"
      },
      "execution_count": 6,
      "outputs": [
        {
          "output_type": "display_data",
          "data": {
            "text/plain": [
              "<Figure size 640x480 with 1 Axes>"
            ],
            "image/png": "[encoded data removed]"
          },
          "metadata": {}
        }
      ]
    },
    {
      "cell_type": "code",
      "source": [
        "%%time\n",
        "torch.rand((10000,10000))"
      ],
      "metadata": {
        "id": "Xjl4Y_RAjg3R",
        "colab": {
          "base_uri": "https://localhost:8080/"
        },
        "outputId": "0b5d1a64-6d7b-411f-8899-20dae1083ddb"
      },
      "execution_count": 7,
      "outputs": [
        {
          "output_type": "stream",
          "name": "stdout",
          "text": [
            "CPU times: user 691 ms, sys: 242 ms, total: 932 ms\n",
            "Wall time: 929 ms\n"
          ]
        },
        {
          "output_type": "execute_result",
          "data": {
            "text/plain": [
              "tensor([[0.3923, 0.0651, 0.0341,  ..., 0.7797, 0.9145, 0.4684],\n",
              "        [0.5350, 0.4696, 0.5047,  ..., 0.6343, 0.8824, 0.7828],\n",
              "        [0.1653, 0.1967, 0.3259,  ..., 0.0877, 0.8326, 0.3359],\n",
              "        ...,\n",
              "        [0.9643, 0.9055, 0.5750,  ..., 0.4134, 0.2330, 0.5850],\n",
              "        [0.0739, 0.5736, 0.6227,  ..., 0.0067, 0.4799, 0.7358],\n",
              "        [0.5510, 0.1237, 0.7710,  ..., 0.2547, 0.5931, 0.4473]])"
            ]
          },
          "metadata": {},
          "execution_count": 7
        }
      ]
    },
    {
      "cell_type": "code",
      "source": [
        "x = torch.arange(10000).reshape(100,100)\n",
        "y = np.arange(10000).reshape(100,100)\n",
        ""
      ],
      "metadata": {
        "id": "jDDDffm7tNHS"
      },
      "execution_count": 16,
      "outputs": []
    },
    {
      "cell_type": "code",
      "source": [
        "%%time\n",
        "x@x\n",
        "1"
      ],
      "metadata": {
        "colab": {
          "base_uri": "https://localhost:8080/"
        },
        "id": "CSEyOtiPt9WU",
        "outputId": "0c9e2549-fe03-4806-b255-19fe884fc1c6"
      },
      "execution_count": 17,
      "outputs": [
        {
          "output_type": "stream",
          "name": "stdout",
          "text": [
            "CPU times: user 3.93 ms, sys: 0 ns, total: 3.93 ms\n",
            "Wall time: 2.99 ms\n"
          ]
        },
        {
          "output_type": "execute_result",
          "data": {
            "text/plain": [
              "1"
            ]
          },
          "metadata": {},
          "execution_count": 17
        }
      ]
    },
    {
      "cell_type": "code",
      "source": [
        "%%time\n",
        "y@y\n",
        "1"
      ],
      "metadata": {
        "colab": {
          "base_uri": "https://localhost:8080/"
        },
        "id": "OqzwZtBZuDi_",
        "outputId": "d6dfa26c-6d37-4ee8-c6f9-2a8c469df983"
      },
      "execution_count": 18,
      "outputs": [
        {
          "output_type": "stream",
          "name": "stdout",
          "text": [
            "CPU times: user 2.89 ms, sys: 0 ns, total: 2.89 ms\n",
            "Wall time: 1.71 ms\n"
          ]
        },
        {
          "output_type": "execute_result",
          "data": {
            "text/plain": [
              "1"
            ]
          },
          "metadata": {},
          "execution_count": 18
        }
      ]
    },
    {
      "cell_type": "code",
      "source": [
        "%%time\n",
        "z = np.zeros((100,100))\n",
        "for i in range(100):\n",
        "  for j in range(100):\n",
        "    for k in range(100):\n",
        "      z[i,j] += x[i,k] * x[k,j]\n"
      ],
      "metadata": {
        "colab": {
          "base_uri": "https://localhost:8080/"
        },
        "id": "MA9YrxwVu5D1",
        "outputId": "b67f5ca7-5562-44c5-f3a8-955a12a7cca9"
      },
      "execution_count": 20,
      "outputs": [
        {
          "output_type": "stream",
          "name": "stdout",
          "text": [
            "CPU times: user 34.1 s, sys: 31.1 ms, total: 34.1 s\n",
            "Wall time: 34.8 s\n"
          ]
        }
      ]
    },
    {
      "cell_type": "code",
      "source": [
        "x = torch.arange(12).reshape(3,4)\n",
        "x = x.unsqueeze(dim=0)\n",
        "x.shape"
      ],
      "metadata": {
        "colab": {
          "base_uri": "https://localhost:8080/"
        },
        "id": "QUkfnyEevUs2",
        "outputId": "120bd61b-f76b-498e-c2a9-b0050d995865"
      },
      "execution_count": 28,
      "outputs": [
        {
          "output_type": "execute_result",
          "data": {
            "text/plain": [
              "torch.Size([1, 3, 4])"
            ]
          },
          "metadata": {},
          "execution_count": 28
        }
      ]
    },
    {
      "cell_type": "code",
      "source": [
        "x.squeeze()"
      ],
      "metadata": {
        "colab": {
          "base_uri": "https://localhost:8080/"
        },
        "id": "oxa6Hguov14B",
        "outputId": "1643c1c3-84d6-4419-97fb-b7963937f645"
      },
      "execution_count": 29,
      "outputs": [
        {
          "output_type": "execute_result",
          "data": {
            "text/plain": [
              "tensor([[ 0,  1,  2,  3],\n",
              "        [ 4,  5,  6,  7],\n",
              "        [ 8,  9, 10, 11]])"
            ]
          },
          "metadata": {},
          "execution_count": 29
        }
      ]
    },
    {
      "cell_type": "code",
      "source": [
        "x.permute(0,2,1)"
      ],
      "metadata": {
        "colab": {
          "base_uri": "https://localhost:8080/"
        },
        "id": "ehW3YudSv20Y",
        "outputId": "d5e9c3f1-a409-4cea-9610-903b6eaf7067"
      },
      "execution_count": 32,
      "outputs": [
        {
          "output_type": "execute_result",
          "data": {
            "text/plain": [
              "tensor([[[ 0,  4,  8],\n",
              "         [ 1,  5,  9],\n",
              "         [ 2,  6, 10],\n",
              "         [ 3,  7, 11]]])"
            ]
          },
          "metadata": {},
          "execution_count": 32
        }
      ]
    },
    {
      "cell_type": "code",
      "source": [],
      "metadata": {
        "id": "waFkfCxywKwY"
      },
      "execution_count": null,
      "outputs": []
    }
  ]
}