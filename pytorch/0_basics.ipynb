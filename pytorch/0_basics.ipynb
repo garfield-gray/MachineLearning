{
  "nbformat": 4,
  "nbformat_minor": 0,
  "metadata": {
    "colab": {
      "provenance": [],
      "gpuType": "V28",
      "authorship_tag": "ABX9TyPGu8r3q80pzj5iV4V+iKED",
      "include_colab_link": true
    },
    "kernelspec": {
      "name": "python3",
      "display_name": "Python 3"
    },
    "language_info": {
      "name": "python"
    },
    "accelerator": "TPU"
  },
  "cells": [
    {
      "cell_type": "markdown",
      "metadata": {
        "id": "view-in-github",
        "colab_type": "text"
      },
      "source": [
        "<a href=\"https://colab.research.google.com/github/garfield-gray/MachineLearning/blob/main/pytorch/0_basics.ipynb\" target=\"_parent\"><img src=\"https://colab.research.google.com/assets/colab-badge.svg\" alt=\"Open In Colab\"/></a>"
      ]
    },
    {
      "cell_type": "code",
      "execution_count": 1,
      "metadata": {
        "colab": {
          "base_uri": "https://localhost:8080/"
        },
        "id": "vB7s4pxwgAZt",
        "outputId": "a5506512-8080-4dae-ff3d-63d7f641cb1a"
      },
      "outputs": [
        {
          "output_type": "stream",
          "name": "stdout",
          "text": [
            "/bin/bash: line 1: nvidia-smi: command not found\n"
          ]
        }
      ],
      "source": [
        "!nvidia-smi"
      ]
    },
    {
      "cell_type": "code",
      "source": [
        "import numpy as np\n",
        "import torch\n",
        "import matplotlib.pyplot as plt"
      ],
      "metadata": {
        "id": "9X31wUOkiETe"
      },
      "execution_count": 2,
      "outputs": []
    },
    {
      "cell_type": "code",
      "source": [
        "t = torch.tensor([[1,2,3],[4,5,6]])\n",
        "t.shape"
      ],
      "metadata": {
        "colab": {
          "base_uri": "https://localhost:8080/"
        },
        "id": "b2ehRrRqih4a",
        "outputId": "7ee50281-3b37-4145-d6b1-321e19c12f99"
      },
      "execution_count": 3,
      "outputs": [
        {
          "output_type": "execute_result",
          "data": {
            "text/plain": [
              "torch.Size([2, 3])"
            ]
          },
          "metadata": {},
          "execution_count": 3
        }
      ]
    },
    {
      "cell_type": "code",
      "source": [
        "im = torch.rand((224,224,3))\n",
        "z = torch.zeros_like(im)\n",
        "o = torch.ones_like(im)"
      ],
      "metadata": {
        "id": "94nOss4Gi-V8"
      },
      "execution_count": 4,
      "outputs": []
    },
    {
      "cell_type": "code",
      "source": [
        "# prompt: show im as image\n",
        "\n",
        "plt.imshow(o)\n",
        "plt.show()\n"
      ],
      "metadata": {
        "colab": {
          "base_uri": "https://localhost:8080/",
          "height": 434
        },
        "id": "nT0RhqWdjZG4",
        "outputId": "9565e371-5e92-489e-950d-0a5ad92ff7aa"
      },
      "execution_count": 5,
      "outputs": [
        {
          "output_type": "display_data",
          "data": {
            "text/plain": [
              "<Figure size 640x480 with 1 Axes>"
            ],
            "image/png": "[encoded data removed]"
          },
          "metadata": {}
        }
      ]
    },
    {
      "cell_type": "code",
      "source": [
        "%%time\n",
        "torch.rand((10000,10000))"
      ],
      "metadata": {
        "id": "Xjl4Y_RAjg3R",
        "colab": {
          "base_uri": "https://localhost:8080/"
        },
        "outputId": "f604fea5-f705-4eee-8798-5feeb1312813"
      },
      "execution_count": 6,
      "outputs": [
        {
          "output_type": "stream",
          "name": "stdout",
          "text": [
            "CPU times: user 723 ms, sys: 261 ms, total: 984 ms\n",
            "Wall time: 991 ms\n"
          ]
        },
        {
          "output_type": "execute_result",
          "data": {
            "text/plain": [
              "tensor([[0.4105, 0.4014, 0.6505,  ..., 0.7586, 0.9848, 0.9800],\n",
              "        [0.7167, 0.6576, 0.9109,  ..., 0.1899, 0.8454, 0.7840],\n",
              "        [0.5259, 0.4563, 0.1742,  ..., 0.8790, 0.0798, 0.0901],\n",
              "        ...,\n",
              "        [0.3899, 0.8762, 0.6897,  ..., 0.5036, 0.3915, 0.8433],\n",
              "        [0.8138, 0.0997, 0.2026,  ..., 0.8074, 0.3271, 0.1563],\n",
              "        [0.7852, 0.8664, 0.7618,  ..., 0.4082, 0.7843, 0.0809]])"
            ]
          },
          "metadata": {},
          "execution_count": 6
        }
      ]
    },
    {
      "cell_type": "code",
      "source": [
        "x = torch.arange(0,100, 0.01).reshape(100,100)\n",
        "y = np.arange(10000).reshape(100,100)\n",
        "x.device"
      ],
      "metadata": {
        "id": "jDDDffm7tNHS",
        "colab": {
          "base_uri": "https://localhost:8080/"
        },
        "outputId": "ac3398d3-0f37-41f5-fc67-1aa5523d7e1c"
      },
      "execution_count": 30,
      "outputs": [
        {
          "output_type": "execute_result",
          "data": {
            "text/plain": [
              "device(type='cpu')"
            ]
          },
          "metadata": {},
          "execution_count": 30
        }
      ]
    },
    {
      "cell_type": "code",
      "source": [
        "%%time\n",
        "x@x\n",
        "1"
      ],
      "metadata": {
        "colab": {
          "base_uri": "https://localhost:8080/"
        },
        "id": "CSEyOtiPt9WU",
        "outputId": "edc7ef10-6265-4772-cea9-8198dc2512d4"
      },
      "execution_count": 31,
      "outputs": [
        {
          "output_type": "stream",
          "name": "stdout",
          "text": [
            "CPU times: user 940 µs, sys: 997 µs, total: 1.94 ms\n",
            "Wall time: 26.1 ms\n"
          ]
        },
        {
          "output_type": "execute_result",
          "data": {
            "text/plain": [
              "1"
            ]
          },
          "metadata": {},
          "execution_count": 31
        }
      ]
    },
    {
      "cell_type": "code",
      "source": [
        "%%time\n",
        "y@y\n",
        "1"
      ],
      "metadata": {
        "colab": {
          "base_uri": "https://localhost:8080/"
        },
        "id": "OqzwZtBZuDi_",
        "outputId": "27395a31-1bfe-41be-8d28-3053db4ce062"
      },
      "execution_count": 15,
      "outputs": [
        {
          "output_type": "stream",
          "name": "stdout",
          "text": [
            "CPU times: user 1.4 ms, sys: 44 µs, total: 1.44 ms\n",
            "Wall time: 1.45 ms\n"
          ]
        },
        {
          "output_type": "execute_result",
          "data": {
            "text/plain": [
              "1"
            ]
          },
          "metadata": {},
          "execution_count": 15
        }
      ]
    },
    {
      "cell_type": "code",
      "source": [
        "%%time\n",
        "z = np.zeros((100,100))\n",
        "for i in range(100):\n",
        "  for j in range(100):\n",
        "    for k in range(100):\n",
        "      z[i,j] += x[i,k] * x[k,j]\n"
      ],
      "metadata": {
        "colab": {
          "base_uri": "https://localhost:8080/"
        },
        "id": "MA9YrxwVu5D1",
        "outputId": "5eeb8462-58e4-481c-d85c-c8e7c89fdc18"
      },
      "execution_count": 10,
      "outputs": [
        {
          "output_type": "stream",
          "name": "stdout",
          "text": [
            "CPU times: user 33.9 s, sys: 66 ms, total: 34 s\n",
            "Wall time: 38.4 s\n"
          ]
        }
      ]
    },
    {
      "cell_type": "code",
      "source": [
        "x = torch.arange(12).reshape(3,4)\n",
        "x = x.unsqueeze(dim=0)\n",
        "x.shape"
      ],
      "metadata": {
        "colab": {
          "base_uri": "https://localhost:8080/"
        },
        "id": "QUkfnyEevUs2",
        "outputId": "49c948c7-97d7-462d-a770-9315b4342584"
      },
      "execution_count": 11,
      "outputs": [
        {
          "output_type": "execute_result",
          "data": {
            "text/plain": [
              "torch.Size([1, 3, 4])"
            ]
          },
          "metadata": {},
          "execution_count": 11
        }
      ]
    },
    {
      "cell_type": "code",
      "source": [
        "x.squeeze()"
      ],
      "metadata": {
        "colab": {
          "base_uri": "https://localhost:8080/"
        },
        "id": "oxa6Hguov14B",
        "outputId": "2790ccec-a1fb-483f-b7f3-311f2c537a2c"
      },
      "execution_count": 12,
      "outputs": [
        {
          "output_type": "execute_result",
          "data": {
            "text/plain": [
              "tensor([[ 0,  1,  2,  3],\n",
              "        [ 4,  5,  6,  7],\n",
              "        [ 8,  9, 10, 11]])"
            ]
          },
          "metadata": {},
          "execution_count": 12
        }
      ]
    },
    {
      "cell_type": "code",
      "source": [
        "x.permute(0,2,1)"
      ],
      "metadata": {
        "colab": {
          "base_uri": "https://localhost:8080/"
        },
        "id": "ehW3YudSv20Y",
        "outputId": "2d0bf8a6-6f0e-4c8c-b823-d673253500b1"
      },
      "execution_count": 13,
      "outputs": [
        {
          "output_type": "execute_result",
          "data": {
            "text/plain": [
              "tensor([[[ 0,  4,  8],\n",
              "         [ 1,  5,  9],\n",
              "         [ 2,  6, 10],\n",
              "         [ 3,  7, 11]]])"
            ]
          },
          "metadata": {},
          "execution_count": 13
        }
      ]
    },
    {
      "cell_type": "code",
      "source": [
        "# going with gpu pr tpu!\n",
        "torch.cuda.is_available()"
      ],
      "metadata": {
        "id": "waFkfCxywKwY",
        "colab": {
          "base_uri": "https://localhost:8080/"
        },
        "outputId": "bf3a9ebe-c37f-44ea-eab7-219ff4e08728"
      },
      "execution_count": 3,
      "outputs": [
        {
          "output_type": "execute_result",
          "data": {
            "text/plain": [
              "True"
            ]
          },
          "metadata": {},
          "execution_count": 3
        }
      ]
    },
    {
      "cell_type": "code",
      "source": [
        "device = \"cuda\" if torch.cuda.is_available() else \"cpu\""
      ],
      "metadata": {
        "id": "BGMjdX-auNDq"
      },
      "execution_count": 4,
      "outputs": []
    },
    {
      "cell_type": "code",
      "source": [
        "x = torch.arange(0,100, 0.01).reshape(100,100).to(device)\n",
        "x.device"
      ],
      "metadata": {
        "colab": {
          "base_uri": "https://localhost:8080/"
        },
        "id": "DxzymfMCuf9q",
        "outputId": "aca9df42-13dd-4b06-ef4b-a4232bb46cca"
      },
      "execution_count": 26,
      "outputs": [
        {
          "output_type": "execute_result",
          "data": {
            "text/plain": [
              "device(type='cuda', index=0)"
            ]
          },
          "metadata": {},
          "execution_count": 26
        }
      ]
    },
    {
      "cell_type": "code",
      "source": [
        "%%time\n",
        "x@x\n",
        "1"
      ],
      "metadata": {
        "colab": {
          "base_uri": "https://localhost:8080/"
        },
        "id": "YgmldYO6vAR9",
        "outputId": "d834ebeb-c00a-4254-8600-35c2c29a823c"
      },
      "execution_count": 28,
      "outputs": [
        {
          "output_type": "stream",
          "name": "stdout",
          "text": [
            "CPU times: user 258 µs, sys: 0 ns, total: 258 µs\n",
            "Wall time: 267 µs\n"
          ]
        },
        {
          "output_type": "execute_result",
          "data": {
            "text/plain": [
              "1"
            ]
          },
          "metadata": {},
          "execution_count": 28
        }
      ]
    },
    {
      "cell_type": "code",
      "source": [
        "# prompt: do the calculation of x = torch.arange(0,100, 0.01).reshape(100,100).to(device)\n",
        "# x@x on tpu\n",
        "\n",
        "import torch\n",
        "\n",
        "try:\n",
        "  import torch_xla.core.xla_model as xm\n",
        "  device = xm.xla_device()\n",
        "  print(\"TPU is available.\")\n",
        "  x = torch.arange(0,100, 0.01).reshape(100,100).to(device)\n",
        "  print(x.device)\n",
        "  %%time\n",
        "  x@x\n",
        "  1\n",
        "except:\n",
        "  print(\"TPU is not available.\")\n"
      ],
      "metadata": {
        "colab": {
          "base_uri": "https://localhost:8080/"
        },
        "id": "fxJh9xUMw8vq",
        "outputId": "a02d1312-f97d-4653-d068-8f921b3022ff"
      },
      "execution_count": 3,
      "outputs": [
        {
          "output_type": "stream",
          "name": "stdout",
          "text": [
            "TPU is available.\n",
            "xla:0\n",
            "TPU is not available.\n"
          ]
        }
      ]
    },
    {
      "cell_type": "code",
      "source": [
        "import torch_xla.core.xla_model as xm\n",
        "device = xm.xla_device()\n",
        "print(\"TPU is available.\")\n",
        "x = torch.arange(0,100, 0.01).reshape(100,100).to(device)\n",
        "print(x.device)\n"
      ],
      "metadata": {
        "colab": {
          "base_uri": "https://localhost:8080/"
        },
        "id": "on-emq9nxzHY",
        "outputId": "cdfe3698-0277-4c62-a151-f8a4df16c870"
      },
      "execution_count": 4,
      "outputs": [
        {
          "output_type": "stream",
          "name": "stdout",
          "text": [
            "TPU is available.\n",
            "xla:0\n"
          ]
        }
      ]
    },
    {
      "cell_type": "code",
      "source": [
        "%%time\n",
        "x@x\n",
        "1"
      ],
      "metadata": {
        "colab": {
          "base_uri": "https://localhost:8080/"
        },
        "id": "fig7HCWUyXKZ",
        "outputId": "8139edf4-c952-4cda-b8af-8cbce119eac7"
      },
      "execution_count": 5,
      "outputs": [
        {
          "output_type": "stream",
          "name": "stdout",
          "text": [
            "CPU times: user 1 ms, sys: 155 µs, total: 1.16 ms\n",
            "Wall time: 830 µs\n"
          ]
        },
        {
          "output_type": "execute_result",
          "data": {
            "text/plain": [
              "1"
            ]
          },
          "metadata": {},
          "execution_count": 5
        }
      ]
    },
    {
      "cell_type": "code",
      "source": [
        "!tpu-info"
      ],
      "metadata": {
        "colab": {
          "base_uri": "https://localhost:8080/"
        },
        "id": "tCkV-0T4z2ap",
        "outputId": "211f7b74-cb73-43f1-8941-70ca06387b23"
      },
      "execution_count": 4,
      "outputs": [
        {
          "output_type": "stream",
          "name": "stdout",
          "text": [
            "\u001b[3mTPU Chips                                     \u001b[0m\n",
            "┏━━━━━━━━━━━━━┳━━━━━━━━━━━━━┳━━━━━━━━━┳━━━━━━┓\n",
            "┃\u001b[1m \u001b[0m\u001b[1mChip       \u001b[0m\u001b[1m \u001b[0m┃\u001b[1m \u001b[0m\u001b[1mType       \u001b[0m\u001b[1m \u001b[0m┃\u001b[1m \u001b[0m\u001b[1mDevices\u001b[0m\u001b[1m \u001b[0m┃\u001b[1m \u001b[0m\u001b[1mPID \u001b[0m\u001b[1m \u001b[0m┃\n",
            "┡━━━━━━━━━━━━━╇━━━━━━━━━━━━━╇━━━━━━━━━╇━━━━━━┩\n",
            "│ /dev/accel0 │ TPU v2 chip │ 2       │ None │\n",
            "│ /dev/accel1 │ TPU v2 chip │ 2       │ None │\n",
            "│ /dev/accel2 │ TPU v2 chip │ 2       │ None │\n",
            "│ /dev/accel3 │ TPU v2 chip │ 2       │ None │\n",
            "└─────────────┴─────────────┴─────────┴──────┘\n",
            "Libtpu metrics unavailable. Is there a framework using the TPU? See https://github.com/google/cloud-accelerator-diagnostics/tree/main/tpu_info for more information\n"
          ]
        }
      ]
    },
    {
      "cell_type": "code",
      "source": [],
      "metadata": {
        "id": "luQp_k2wz371"
      },
      "execution_count": null,
      "outputs": []
    }
  ]
}